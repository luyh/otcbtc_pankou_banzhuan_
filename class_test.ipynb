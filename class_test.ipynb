{
 "cells": [
  {
   "cell_type": "code",
   "execution_count": 10,
   "metadata": {
    "collapsed": true
   },
   "outputs": [
    {
     "name": "stdout",
     "output_type": "stream",
     "text": [
      "正在连接chrome浏览器...\n"
     ]
    },
    {
     "name": "stdout",
     "output_type": "stream",
     "text": [
      "已打开chrome浏览器，并成功连接\n"
     ]
    }
   ],
   "source": [
    "from selenium import webdriver\n",
    "from selenium.webdriver.common.keys import Keys\n",
    "import time\n",
    "import  re\n",
    "\n",
    "\n",
    "print(u'正在连接chrome浏览器...')\n",
    "driver = webdriver.Chrome('/Users/Hebbelu/Downloads/chromedriver')\n",
    "print(u'已打开chrome浏览器，并成功连接')"
   ]
  },
  {
   "cell_type": "code",
   "execution_count": 15,
   "metadata": {
    "collapsed": false
   },
   "outputs": [],
   "source": [
    "#载入帐号信息，参考模版user_data_temp.json\n",
    "\n",
    "import json\n",
    "\n",
    "def load_data():\n",
    "    with open('/Users/Hebbelu/PycharmProjects/otcbtc/'\n",
    "              'luyh.json') as f:  \n",
    "        data = json.load(f)\n",
    "        #print(data)\n",
    "    #print(data[\"user\"],data[\"password\"])\n",
    "    return data\n",
    "\n",
    "data = load_data()"
   ]
  },
  {
   "cell_type": "code",
   "execution_count": 16,
   "metadata": {
    "collapsed": true
   },
   "outputs": [
    {
     "name": "stdout",
     "output_type": "stream",
     "text": [
      "正在打开otcbtc.com\n"
     ]
    },
    {
     "name": "stdout",
     "output_type": "stream",
     "text": [
      "已打开otcbtc.com\n"
     ]
    },
    {
     "name": "stdout",
     "output_type": "stream",
     "text": [
      "正在使用帐号密码登陆...\n"
     ]
    },
    {
     "name": "stdout",
     "output_type": "stream",
     "text": [
      "已帐号密码登陆otcbtc.com\n请输入验证码\n"
     ]
    }
   ],
   "source": [
    "class otcbtc(object):\n",
    "    def __init__(self,driver):\n",
    "        self.dr = driver\n",
    "        \n",
    "    def login(self):\n",
    "        print(u'正在打开otcbtc.com')\n",
    "        self.dr.get( 'http://www.otcbtc.com' )\n",
    "        print(u'已打开otcbtc.com')\n",
    "        time.sleep( 1 )\n",
    "        \n",
    "        print(u'正在使用帐号密码登陆...')\n",
    "        buttun = self.dr.find_element_by_class_name( 'log-in-btn' )\n",
    "        buttun.click()\n",
    "        time.sleep( 1 )\n",
    "\n",
    "        user = self.dr.find_element_by_id( 'user_email' )\n",
    "        user.send_keys( data[\"user\"] )\n",
    "\n",
    "        pwd = self.dr.find_element_by_id( 'user_password' )\n",
    "        pwd.send_keys( data[\"password\"] )\n",
    "\n",
    "        log_in_btn = self.dr.find_element_by_name( 'commit' )\n",
    "        log_in_btn.click()\n",
    "        time.sleep( 1 )\n",
    "        print(u'已帐号密码登陆otcbtc.com')\n",
    "\n",
    "        print( u\"请输入验证码\" )\n",
    "        time.sleep( 5 )\n",
    "        \n",
    "        self._check_login()\n",
    "\n",
    "    def get_market_otceth(self):\n",
    "        print( u\"正在切换至otbeth币币交易\" )\n",
    "        self.dr.get(\"https://bb.otcbtc.com/exchange/markets/otbeth\")\n",
    "        print( u\"已切换至otbeth币币交易\" )\n",
    "        time.sleep(5)\n",
    "\n",
    "    def _check_login(self):\n",
    "        time.sleep(5)\n",
    "            #TODO:先用将就延迟代替，再完善\n",
    "    \n",
    "    def _get_current_url(self):\n",
    "        return self.dr.current_url\n",
    " \n",
    "otc = otcbtc(driver)\n",
    "otc.login()\n",
    "time.sleep(5)\n",
    "\n",
    "\n"
   ]
  },
  {
   "cell_type": "code",
   "execution_count": 17,
   "metadata": {},
   "outputs": [
    {
     "name": "stdout",
     "output_type": "stream",
     "text": [
      "正在切换至otbeth币币交易\n"
     ]
    },
    {
     "name": "stdout",
     "output_type": "stream",
     "text": [
      "已切换至otbeth币币交易\n"
     ]
    }
   ],
   "source": [
    "# 登陆otc_eth币币交易\n",
    "\n",
    "otc.get_market_otceth()"
   ]
  },
  {
   "cell_type": "code",
   "execution_count": 64,
   "metadata": {},
   "outputs": [
    {
     "name": "stdout",
     "output_type": "stream",
     "text": [
      "买一价 0.0010451\n卖一价 0.00108999\n现有差价 4.3 %\n"
     ]
    },
    {
     "name": "stdout",
     "output_type": "stream",
     "text": [
      "买一价 0.0010451\n卖一价 0.00108999\n现有差价 4.3 %\n"
     ]
    },
    {
     "name": "stdout",
     "output_type": "stream",
     "text": [
      "买一价 0.0010451\n卖一价 0.00108999\n现有差价 4.3 %\n"
     ]
    },
    {
     "name": "stdout",
     "output_type": "stream",
     "text": [
      "买一价 0.0010451\n卖一价 0.00108999\n现有差价 4.3 %\n"
     ]
    },
    {
     "name": "stdout",
     "output_type": "stream",
     "text": [
      "买一价 0.0010451\n卖一价 0.00108999\n现有差价 4.3 %\n"
     ]
    }
   ],
   "source": [
    "\n",
    "class  trade(object):    \n",
    "    def __init__(self,driver):\n",
    "        self.dr = driver\n",
    "        # self.buy1price = None\n",
    "        # self.sell1price = None\n",
    "        # self.cjbfb = None\n",
    "        # self.money = None\n",
    "        # self.bi = None\n",
    "        # self.buy_order_price = None\n",
    "        # self.buy_amount = None\n",
    " \n",
    "    def _get_buy1_price(self):\n",
    "        buy = self.dr.find_element_by_xpath(\"//div[@class='bid-book']//ul[2]/li/span\").text\n",
    "        self.buy1price =  float(buy)\n",
    "            \n",
    "    def _get_sell1price(self):\n",
    "        sell = self.dr.find_element_by_xpath(\"//div[@class='ask-book']//ul[2]/li/span\").text\n",
    "        self.sell1price = float(sell)\n",
    "   \n",
    "    def _chajia(self):\n",
    "        cjbfb = self.sell1price /self.buy1price -1\n",
    "        self.cjbfb = cjbfb*100\n",
    "        \n",
    "    def update_price(self,show = 0):\n",
    "        self._get_buy1_price()\n",
    "        self._get_sell1price()\n",
    "        self._chajia()\n",
    "        if show:\n",
    "            print(u'买一价',round(self.buy1price,8))\n",
    "            print(u'卖一价',round(self.sell1price,8))\n",
    "            print(u'现有差价',round(self.cjbfb,2),'%')\n",
    "            \n",
    "    def get_money(self):    \n",
    "        xpath = \"/html/body/div[2]/div/div/div/div[2]/div[2]/div[2]/div/div[1]/div[2]/\" \\\n",
    "            \"ul/li[2]/span[2]\"\n",
    "        element = self.dr.find_element_by_xpath(xpath)\n",
    "        try:\n",
    "            text = re.findall('(\\d+(\\.？\\d+))',element.text)[0]\n",
    "        except:\n",
    "            text = 0\n",
    "        self.money = float(text)\n",
    "        \n",
    "    def get_bi(self):\n",
    "        xpath = \"/html/body/div[2]/div/div/div/div[2]/div[2]/div[2]/div/div[2]/div[2]/ul/li[2]/span[2]\"\n",
    "        element = self.dr.find_element_by_xpath(xpath)\n",
    "        text = re.findall('\\d+\\.?\\d+',element.text)[0]\n",
    "        self.bi = float(text)\n",
    "        \n",
    "    def _get_buy_order_price(self):\n",
    "        self._get_buy1_price()\n",
    "        self.buy_order_price = round(self.buy1price+0.00000001,8)\n",
    "      \n",
    "    def _input_buy_price(self):\n",
    "        self._get_buy_order_price()\n",
    "        \n",
    "        xpath  = \"/html/body/div[2]/div/div/div/div[2]/div[2]/div[2]/div/div[1]/div[2]/form/div[1]/div[1]/input\"\n",
    "        buy_input = self.dr.find_element_by_xpath(xpath)\n",
    "        buy_input.clear()\n",
    "        buy_input.send_keys(str(self.buy_order_price))\n",
    "\n",
    "    def _get_buy_amount(self):\n",
    "        self.buy_amount = round(self.money/self.buy_order_price,6)-0.000001\n",
    "        \n",
    "    def _input_buy_amount(self):\n",
    "        self._get_buy_amount()\n",
    "        \n",
    "        xpath = \"/html/body/div[2]/div/div/div/div[2]/div[2]/div[2]/div/div[1]/div[2]/form/div[2]\" \\\n",
    "            \"/div/input\"\n",
    "        amount_input = self.dr.find_element_by_xpath(xpath)\n",
    "        amount_input.clear()\n",
    "        amount_input.send_keys(str(self.buy_amount))\n",
    "        \n",
    "    def _commit_buy_order(self):\n",
    "        commit = self.dr.find_element_by_xpath(\"/html/body/div[2]/div/div/div/div[2]/div[2]/div[2]/div/div[1]/div[2]/form/div[4]/button\")\n",
    "        print(commit.text)\n",
    "        commit.send_keys(Keys.ENTER)\n",
    "    \n",
    "    def buy_order(self):\n",
    "        self._input_buy_price()\n",
    "        self._input_buy_amount()\n",
    "        self._commit_buy_order()\n",
    "         \n",
    "    def cancle_buy_order(self):\n",
    "        xpath = \"//ul[@class='general-flex-list scroll-block history-lists']\"\n",
    "        cancle = self.dr.find_element_by_xpath(xpath+\n",
    "                \"/li//span[7]/a\")        \n",
    "        #print(cancle.text)\n",
    "        cancle.send_keys(Keys.ENTER)  \n",
    "        time.sleep(5)\n",
    "        \n",
    "    def get_my_orders(self):\n",
    "        xpath =\"/html/body/div[2]/div/div/div/div[2]/div[3]/div[2]/div[1]/div[2]/ul[2]\"\n",
    "        orders_text = self.dr.find_element_by_xpath(xpath).text\n",
    "        orders = re.split('\\n',orders_text)\n",
    "        #print(orders)\n",
    "        return orders\n",
    "    \n",
    "    def check_buy_order(self):\n",
    "        self._get_buy1_price()\n",
    "        if self.buy1price > self.buy_order_price:\n",
    "            return 1\n",
    "        else:\n",
    "            return 0\n",
    "\n",
    "\n",
    "otcbtc = trade(driver)\n",
    "for i in range(5):\n",
    "    otcbtc.update_price(show=1)\n",
    "    time.sleep(5)   "
   ]
  },
  {
   "cell_type": "code",
   "execution_count": 33,
   "metadata": {
    "collapsed": true
   },
   "outputs": [
    {
     "name": "stdout",
     "output_type": "stream",
     "text": [
      "请输入验证码\n"
     ]
    }
   ],
   "source": [
    "otcbtc.login_otcbtc()"
   ]
  },
  {
   "cell_type": "code",
   "execution_count": 34,
   "metadata": {},
   "outputs": [],
   "source": [
    "otcbtc.get_market_otceth()"
   ]
  },
  {
   "cell_type": "code",
   "execution_count": 46,
   "metadata": {
    "collapsed": true
   },
   "outputs": [
    {
     "ename": "TypeError",
     "evalue": "'float' object is not callable",
     "traceback": [
      "\u001b[0;31m---------------------------------------------------------------------------\u001b[0m",
      "\u001b[0;31mTypeError\u001b[0m                                 Traceback (most recent call last)",
      "\u001b[0;32m<ipython-input-46-a95b4da75153>\u001b[0m in \u001b[0;36m<module>\u001b[0;34m()\u001b[0m\n\u001b[0;32m----> 1\u001b[0;31m \u001b[0motcbtc\u001b[0m\u001b[0;34m.\u001b[0m\u001b[0mbuy_order\u001b[0m\u001b[0;34m(\u001b[0m\u001b[0;34m)\u001b[0m\u001b[0;34m\u001b[0m\u001b[0m\n\u001b[0m",
      "\u001b[0;32m<ipython-input-29-d1f06f1c9517>\u001b[0m in \u001b[0;36mbuy_order\u001b[0;34m(self)\u001b[0m\n\u001b[1;32m    111\u001b[0m \u001b[0;34m\u001b[0m\u001b[0m\n\u001b[1;32m    112\u001b[0m     \u001b[0;32mdef\u001b[0m \u001b[0mbuy_order\u001b[0m\u001b[0;34m(\u001b[0m\u001b[0mself\u001b[0m\u001b[0;34m)\u001b[0m\u001b[0;34m:\u001b[0m\u001b[0;34m\u001b[0m\u001b[0m\n\u001b[0;32m--> 113\u001b[0;31m         \u001b[0mself\u001b[0m\u001b[0;34m.\u001b[0m\u001b[0m_input_buy_price\u001b[0m\u001b[0;34m(\u001b[0m\u001b[0;34m)\u001b[0m\u001b[0;34m\u001b[0m\u001b[0m\n\u001b[0m\u001b[1;32m    114\u001b[0m         \u001b[0mself\u001b[0m\u001b[0;34m.\u001b[0m\u001b[0m_input_buy_amount\u001b[0m\u001b[0;34m(\u001b[0m\u001b[0;34m)\u001b[0m\u001b[0;34m\u001b[0m\u001b[0m\n\u001b[1;32m    115\u001b[0m         \u001b[0mself\u001b[0m\u001b[0;34m.\u001b[0m\u001b[0m_commit_buy_order\u001b[0m\u001b[0;34m(\u001b[0m\u001b[0;34m)\u001b[0m\u001b[0;34m\u001b[0m\u001b[0m\n",
      "\u001b[0;32m<ipython-input-29-d1f06f1c9517>\u001b[0m in \u001b[0;36m_input_buy_price\u001b[0;34m(self)\u001b[0m\n\u001b[1;32m     87\u001b[0m \u001b[0;34m\u001b[0m\u001b[0m\n\u001b[1;32m     88\u001b[0m     \u001b[0;32mdef\u001b[0m \u001b[0m_input_buy_price\u001b[0m\u001b[0;34m(\u001b[0m\u001b[0mself\u001b[0m\u001b[0;34m)\u001b[0m\u001b[0;34m:\u001b[0m\u001b[0;34m\u001b[0m\u001b[0m\n\u001b[0;32m---> 89\u001b[0;31m         \u001b[0mself\u001b[0m\u001b[0;34m.\u001b[0m\u001b[0m_get_buy_order_price\u001b[0m\u001b[0;34m(\u001b[0m\u001b[0;34m)\u001b[0m\u001b[0;34m\u001b[0m\u001b[0m\n\u001b[0m\u001b[1;32m     90\u001b[0m \u001b[0;34m\u001b[0m\u001b[0m\n\u001b[1;32m     91\u001b[0m         \u001b[0mxpath\u001b[0m  \u001b[0;34m=\u001b[0m \u001b[0;34m\"/html/body/div[2]/div/div/div/div[2]/div[2]/div[2]/div/div[1]/div[2]/form/div[1]/div[1]/input\"\u001b[0m\u001b[0;34m\u001b[0m\u001b[0m\n",
      "\u001b[0;32m<ipython-input-29-d1f06f1c9517>\u001b[0m in \u001b[0;36m_get_buy_order_price\u001b[0;34m(self)\u001b[0m\n\u001b[1;32m     84\u001b[0m     \u001b[0;32mdef\u001b[0m \u001b[0m_get_buy_order_price\u001b[0m\u001b[0;34m(\u001b[0m\u001b[0mself\u001b[0m\u001b[0;34m)\u001b[0m\u001b[0;34m:\u001b[0m\u001b[0;34m\u001b[0m\u001b[0m\n\u001b[1;32m     85\u001b[0m         \u001b[0mself\u001b[0m\u001b[0;34m.\u001b[0m\u001b[0m_get_buy1_price\u001b[0m\u001b[0;34m(\u001b[0m\u001b[0;34m)\u001b[0m\u001b[0;34m\u001b[0m\u001b[0m\n\u001b[0;32m---> 86\u001b[0;31m         \u001b[0mself\u001b[0m\u001b[0;34m.\u001b[0m\u001b[0mbuy_order_price\u001b[0m \u001b[0;34m=\u001b[0m \u001b[0mround\u001b[0m\u001b[0;34m(\u001b[0m\u001b[0mself\u001b[0m\u001b[0;34m.\u001b[0m\u001b[0mbuy1price\u001b[0m\u001b[0;34m(\u001b[0m\u001b[0;34m)\u001b[0m\u001b[0;34m+\u001b[0m\u001b[0;36m0.00000001\u001b[0m\u001b[0;34m,\u001b[0m\u001b[0;36m8\u001b[0m\u001b[0;34m)\u001b[0m\u001b[0;34m\u001b[0m\u001b[0m\n\u001b[0m\u001b[1;32m     87\u001b[0m \u001b[0;34m\u001b[0m\u001b[0m\n\u001b[1;32m     88\u001b[0m     \u001b[0;32mdef\u001b[0m \u001b[0m_input_buy_price\u001b[0m\u001b[0;34m(\u001b[0m\u001b[0mself\u001b[0m\u001b[0;34m)\u001b[0m\u001b[0;34m:\u001b[0m\u001b[0;34m\u001b[0m\u001b[0m\n",
      "\u001b[0;31mTypeError\u001b[0m: 'float' object is not callable"
     ],
     "output_type": "error"
    }
   ],
   "source": [
    "otcbtc.buy_order()"
   ]
  },
  {
   "cell_type": "code",
   "execution_count": 35,
   "metadata": {
    "collapsed": true
   },
   "outputs": [
    {
     "ename": "TypeError",
     "evalue": "'>' not supported between instances of 'float' and 'NoneType'",
     "traceback": [
      "\u001b[0;31m---------------------------------------------------------------------------\u001b[0m",
      "\u001b[0;31mTypeError\u001b[0m                                 Traceback (most recent call last)",
      "\u001b[0;32m<ipython-input-35-e7a904f598b6>\u001b[0m in \u001b[0;36m<module>\u001b[0;34m()\u001b[0m\n\u001b[0;32m----> 1\u001b[0;31m \u001b[0;32mif\u001b[0m \u001b[0motcbtc\u001b[0m\u001b[0;34m.\u001b[0m\u001b[0mcheck_buy_order\u001b[0m\u001b[0;34m(\u001b[0m\u001b[0;34m)\u001b[0m\u001b[0;34m:\u001b[0m\u001b[0;34m\u001b[0m\u001b[0m\n\u001b[0m\u001b[1;32m      2\u001b[0m     \u001b[0mprint\u001b[0m\u001b[0;34m(\u001b[0m\u001b[0;34mu'取消订单'\u001b[0m\u001b[0;34m)\u001b[0m\u001b[0;34m\u001b[0m\u001b[0m\n\u001b[1;32m      3\u001b[0m     \u001b[0motcbtc\u001b[0m\u001b[0;34m.\u001b[0m\u001b[0mcheck_buy_order\u001b[0m\u001b[0;34m(\u001b[0m\u001b[0;34m)\u001b[0m\u001b[0;34m\u001b[0m\u001b[0m\n",
      "\u001b[0;32m<ipython-input-29-d1f06f1c9517>\u001b[0m in \u001b[0;36mcheck_buy_order\u001b[0;34m(self)\u001b[0m\n\u001b[1;32m    132\u001b[0m     \u001b[0;32mdef\u001b[0m \u001b[0mcheck_buy_order\u001b[0m\u001b[0;34m(\u001b[0m\u001b[0mself\u001b[0m\u001b[0;34m)\u001b[0m\u001b[0;34m:\u001b[0m\u001b[0;34m\u001b[0m\u001b[0m\n\u001b[1;32m    133\u001b[0m         \u001b[0mself\u001b[0m\u001b[0;34m.\u001b[0m\u001b[0m_get_buy1_price\u001b[0m\u001b[0;34m(\u001b[0m\u001b[0;34m)\u001b[0m\u001b[0;34m\u001b[0m\u001b[0m\n\u001b[0;32m--> 134\u001b[0;31m         \u001b[0;32mif\u001b[0m \u001b[0mself\u001b[0m\u001b[0;34m.\u001b[0m\u001b[0mbuy1price\u001b[0m \u001b[0;34m>\u001b[0m \u001b[0mself\u001b[0m\u001b[0;34m.\u001b[0m\u001b[0mbuy_order_price\u001b[0m\u001b[0;34m:\u001b[0m\u001b[0;34m\u001b[0m\u001b[0m\n\u001b[0m\u001b[1;32m    135\u001b[0m             \u001b[0;32mreturn\u001b[0m \u001b[0;36m1\u001b[0m\u001b[0;34m\u001b[0m\u001b[0m\n\u001b[1;32m    136\u001b[0m         \u001b[0;32melse\u001b[0m\u001b[0;34m:\u001b[0m\u001b[0;34m\u001b[0m\u001b[0m\n",
      "\u001b[0;31mTypeError\u001b[0m: '>' not supported between instances of 'float' and 'NoneType'"
     ],
     "output_type": "error"
    }
   ],
   "source": [
    "if otcbtc.check_buy_order():\n",
    "    print(u'取消订单')\n",
    "    otcbtc.check_buy_order()"
   ]
  },
  {
   "cell_type": "code",
   "execution_count": 57,
   "metadata": {},
   "outputs": [
    {
     "data": {
      "text/plain": [
       "'https://otcbtc.com/'"
      ]
     },
     "execution_count": 57,
     "metadata": {},
     "output_type": "execute_result"
    }
   ],
   "source": [
    "\n"
   ]
  },
  {
   "cell_type": "code",
   "execution_count": null,
   "metadata": {},
   "outputs": [],
   "source": []
  }
 ],
 "metadata": {
  "kernelspec": {
   "display_name": "Python 2",
   "language": "python",
   "name": "python2"
  },
  "language_info": {
   "codemirror_mode": {
    "name": "ipython",
    "version": 2
   },
   "file_extension": ".py",
   "mimetype": "text/x-python",
   "name": "python",
   "nbconvert_exporter": "python",
   "pygments_lexer": "ipython2",
   "version": "2.7.6"
  }
 },
 "nbformat": 4,
 "nbformat_minor": 0
}
