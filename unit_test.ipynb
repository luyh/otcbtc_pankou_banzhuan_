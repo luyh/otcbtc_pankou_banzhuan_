{
 "cells": [
  {
   "cell_type": "code",
   "execution_count": 327,
   "metadata": {
    "collapsed": true
   },
   "outputs": [],
   "source": [
    "from selenium import webdriver\n",
    "from selenium.webdriver.common.keys import Keys\n",
    "import time\n",
    "import  re\n",
    "\n",
    "\n",
    "driver = webdriver.Chrome('/Users/Hebbelu/Downloads/chromedriver')\n"
   ]
  },
  {
   "cell_type": "code",
   "execution_count": 328,
   "metadata": {},
   "outputs": [
    {
     "name": "stdout",
     "output_type": "stream",
     "text": [
      "请输入验证码\n"
     ]
    }
   ],
   "source": [
    "def login_otcbtc():\n",
    "    driver.get('http://www.otcbtc.com')\n",
    "    time.sleep(5)\n",
    "    \n",
    "    buttun = driver.find_element_by_class_name('log-in-btn')\n",
    "    buttun.click()\n",
    "    time.sleep(5)\n",
    "    \n",
    "    user= driver.find_element_by_id('user_email')\n",
    "    user.send_keys('myaccount')\n",
    "    \n",
    "    pwd = driver.find_element_by_id('user_password')\n",
    "    pwd.send_keys('mypassword')\n",
    "    \n",
    "    log_in_btn = driver.find_element_by_name('commit')\n",
    "    log_in_btn.click()\n",
    "    time.sleep(5)\n",
    "    \n",
    "    print(u\"请输入验证码\")\n",
    "    time.sleep(5)\n",
    "    \n",
    "login_otcbtc()"
   ]
  },
  {
   "cell_type": "code",
   "execution_count": 329,
   "metadata": {},
   "outputs": [],
   "source": [
    "def exchange_login():\n",
    "    exchange_click = driver.find_element_by_id('exchange-link').click()\n",
    "    time.sleep(5)\n",
    "    \n",
    "    exchange_markets_click = driver.find_element_by_css_selector('a.btn').click()\n",
    "    time.sleep(5)\n",
    "    \n",
    "exchange_login()"
   ]
  },
  {
   "cell_type": "code",
   "execution_count": 65,
   "metadata": {
    "collapsed": true
   },
   "outputs": [
    {
     "name": "stdout",
     "output_type": "stream",
     "text": [
      "[<li class=\"merkts-item hoverable\"><a href=\"/exchange/markets/btceth\"><span class=\"width-30\">BTC<span class=\"grey\"> / ETH</span></span><span class=\"width-50\"><span class=\"\">11.16000000</span><span class=\"grey\"> / <span><i class=\"fa fa-cny\"></i> 77207.04</span></span></span><span class=\"width-20 text-right\"><span class=\"text-up\">59.42%</span></span></a></li>, <li class=\"merkts-item hoverable\"><a href=\"/exchange/markets/otbeth\"><span class=\"width-30\">OTB<span class=\"grey\"> / ETH</span></span><span class=\"width-50\"><span class=\"\">0.00137947</span><span class=\"grey\"> / <span><i class=\"fa fa-cny\"></i> 9.54</span></span></span><span class=\"width-20 text-right\"><span class=\"text-down\">-1.54%</span></span></a></li>, <li class=\"merkts-item hoverable\"><a href=\"/exchange/markets/eoseth\"><span class=\"width-30\">EOS<span class=\"grey\"> / ETH</span></span><span class=\"width-50\"><span class=\"\">0.01059000</span><span class=\"grey\"> / <span><i class=\"fa fa-cny\"></i> 73.26</span></span></span><span class=\"width-20 text-right\"><span class=\"text-up\">0.03%</span></span></a></li>, <li class=\"merkts-item hoverable\"><a href=\"/exchange/markets/bcheth\"><span class=\"width-30\">BCH<span class=\"grey\"> / ETH</span></span><span class=\"width-50\"><span class=\"\">0.00018956</span><span class=\"grey\"> / <span><i class=\"fa fa-cny\"></i> 1.31</span></span></span><span class=\"width-20 text-right\"><span class=\"text-up\">0.00%</span></span></a></li>, <li class=\"merkts-item hoverable\"><a href=\"/exchange/markets/gxseth\"><span class=\"width-30\">GXS<span class=\"grey\"> / ETH</span></span><span class=\"width-50\"><span class=\"\">0.00410000</span><span class=\"grey\"> / <span><i class=\"fa fa-cny\"></i> 28.36</span></span></span><span class=\"width-20 text-right\"><span class=\"text-up\">3.33%</span></span></a></li>, <li class=\"merkts-item hoverable\"><a href=\"/exchange/markets/usdteth\"><span class=\"width-30\">USDT<span class=\"grey\"> / ETH</span></span><span class=\"width-50\"><span class=\"\">0.00060100</span><span class=\"grey\"> / <span><i class=\"fa fa-cny\"></i> 4.16</span></span></span><span class=\"width-20 text-right\"><span class=\"text-up\">0.00%</span></span></a></li>, <li class=\"merkts-item hoverable\"><a href=\"/exchange/markets/zeceth\"><span class=\"width-30\">ZEC<span class=\"grey\"> / ETH</span></span><span class=\"width-50\"><span class=\"\">0.00000000</span><span class=\"grey\"> / <span><i class=\"fa fa-cny\"></i> 0.00</span></span></span><span class=\"width-20 text-right\"><span class=\"text-up\">0.00%</span></span></a></li>, <li class=\"merkts-item hoverable\"><a href=\"/exchange/markets/qtumeth\"><span class=\"width-30\">QTUM<span class=\"grey\"> / ETH</span></span><span class=\"width-50\"><span class=\"\">0.00000000</span><span class=\"grey\"> / <span><i class=\"fa fa-cny\"></i> 0.00</span></span></span><span class=\"width-20 text-right\"><span class=\"text-up\">0.00%</span></span></a></li>, <li class=\"merkts-item hoverable\"><a href=\"/exchange/markets/deweth\"><span class=\"width-30\">DEW<span class=\"grey\"> / ETH</span></span><span class=\"width-50\"><span class=\"\">0.00198960</span><span class=\"grey\"> / <span><i class=\"fa fa-cny\"></i> 13.76</span></span></span><span class=\"width-20 text-right\"><span class=\"text-down\">-0.02%</span></span></a></li>, <li class=\"merkts-item hoverable\"><a href=\"/exchange/markets/bnbeth\"><span class=\"width-30\">BNB<span class=\"grey\"> / ETH</span></span><span class=\"width-50\"><span class=\"\">0.01349345</span><span class=\"grey\"> / <span><i class=\"fa fa-cny\"></i> 93.35</span></span></span><span class=\"width-20 text-right\"><span class=\"text-down\">-32.19%</span></span></a></li>, <li class=\"merkts-item hoverable\"><a href=\"/exchange/markets/bigeth\"><span class=\"width-30\">BIG<span class=\"grey\"> / ETH</span></span><span class=\"width-50\"><span class=\"\">0.00069954</span><span class=\"grey\"> / <span><i class=\"fa fa-cny\"></i> 4.84</span></span></span><span class=\"width-20 text-right\"><span class=\"text-down\">-88.34%</span></span></a></li>, <li class=\"merkts-item hoverable\"><a href=\"/exchange/markets/uipeth\"><span class=\"width-30\">UIP<span class=\"grey\"> / ETH</span></span><span class=\"width-50\"><span class=\"\">0.00006288</span><span class=\"grey\"> / <span><i class=\"fa fa-cny\"></i> 0.44</span></span></span><span class=\"width-20 text-right\"><span class=\"text-down\">-16.01%</span></span></a></li>, <li class=\"merkts-item hoverable\"><a href=\"/exchange/markets/faireth\"><span class=\"width-30\">FAIR<span class=\"grey\"> / ETH</span></span><span class=\"width-50\"><span class=\"\">0.00004910</span><span class=\"grey\"> / <span><i class=\"fa fa-cny\"></i> 0.34</span></span></span><span class=\"width-20 text-right\"><span class=\"text-up\">0.20%</span></span></a></li>, <li class=\"merkts-item hoverable\"><a href=\"/exchange/markets/jexeth\"><span class=\"width-30\">JEX<span class=\"grey\"> / ETH</span></span><span class=\"width-50\"><span class=\"\">0.00005600</span><span class=\"grey\"> / <span><i class=\"fa fa-cny\"></i> 0.39</span></span></span><span class=\"width-20 text-right\"><span class=\"text-up\">1.82%</span></span></a></li>, <li class=\"merkts-item hoverable\"><a href=\"/exchange/markets/mdseth\"><span class=\"width-30\">MDS<span class=\"grey\"> / ETH</span></span><span class=\"width-50\"><span class=\"\">0.00005222</span><span class=\"grey\"> / <span><i class=\"fa fa-cny\"></i> 0.36</span></span></span><span class=\"width-20 text-right\"><span class=\"text-up\">0.08%</span></span></a></li>, <li class=\"merkts-item hoverable\"><a href=\"/exchange/markets/lrceth\"><span class=\"width-30\">LRC<span class=\"grey\"> / ETH</span></span><span class=\"width-50\"><span class=\"\">0.00090010</span><span class=\"grey\"> / <span><i class=\"fa fa-cny\"></i> 6.23</span></span></span><span class=\"width-20 text-right\"><span class=\"text-up\">0.01%</span></span></a></li>, <li class=\"merkts-item hoverable\"><a href=\"/exchange/markets/tnbeth\"><span class=\"width-30\">TNB<span class=\"grey\"> / ETH</span></span><span class=\"width-50\"><span class=\"\">0.00012901</span><span class=\"grey\"> / <span><i class=\"fa fa-cny\"></i> 0.89</span></span></span><span class=\"width-20 text-right\"><span class=\"text-up\">1.12%</span></span></a></li>, <li class=\"merkts-item hoverable\"><a href=\"/exchange/markets/pixeth\"><span class=\"width-30\">PIX<span class=\"grey\"> / ETH</span></span><span class=\"width-50\"><span class=\"\">0.00028798</span><span class=\"grey\"> / <span><i class=\"fa fa-cny\"></i> 1.99</span></span></span><span class=\"width-20 text-right\"><span class=\"text-up\">328.48%</span></span></a></li>, <li class=\"merkts-item hoverable\"><a href=\"/exchange/markets/naseth\"><span class=\"width-30\">NAS<span class=\"grey\"> / ETH</span></span><span class=\"width-50\"><span class=\"\">0.01020000</span><span class=\"grey\"> / <span><i class=\"fa fa-cny\"></i> 70.57</span></span></span><span class=\"width-20 text-right\"><span class=\"text-up\">0.00%</span></span></a></li>, <li class=\"merkts-item hoverable\"><a href=\"/exchange/markets/snteth\"><span class=\"width-30\">SNT<span class=\"grey\"> / ETH</span></span><span class=\"width-50\"><span class=\"\">0.00046900</span><span class=\"grey\"> / <span><i class=\"fa fa-cny\"></i> 3.24</span></span></span><span class=\"width-20 text-right\"><span class=\"text-down\">-0.21%</span></span></a></li>, <li class=\"merkts-item hoverable\"><a href=\"/exchange/markets/wlketh\"><span class=\"width-30\">WLK<span class=\"grey\"> / ETH</span></span><span class=\"width-50\"><span class=\"\">0.00071000</span><span class=\"grey\"> / <span><i class=\"fa fa-cny\"></i> 4.91</span></span></span><span class=\"width-20 text-right\"><span class=\"text-up\">29.09%</span></span></a></li>, <li class=\"merkts-item hoverable\"><a href=\"/exchange/markets/kineth\"><span class=\"width-30\">KIN<span class=\"grey\"> / ETH</span></span><span class=\"width-50\"><span class=\"\">0.00000038</span><span class=\"grey\"> / <span><i class=\"fa fa-cny\"></i> 0.002629</span></span></span><span class=\"width-20 text-right\"><span class=\"text-down\">-25.49%</span></span></a></li>, <li class=\"merkts-item hoverable\"><a href=\"/exchange/markets/rcteth\"><span class=\"width-30\">RCT<span class=\"grey\"> / ETH</span></span><span class=\"width-50\"><span class=\"\">0.00018880</span><span class=\"grey\"> / <span><i class=\"fa fa-cny\"></i> 1.31</span></span></span><span class=\"width-20 text-right\"><span class=\"text-up\">148.42%</span></span></a></li>, <li class=\"merkts-item hoverable\"><a href=\"/exchange/markets/credoeth\"><span class=\"width-30\">CREDO<span class=\"grey\"> / ETH</span></span><span class=\"width-50\"><span class=\"\">0.00003500</span><span class=\"grey\"> / <span><i class=\"fa fa-cny\"></i> 0.24</span></span></span><span class=\"width-20 text-right\"><span class=\"text-down\">-55.70%</span></span></a></li>, <li class=\"merkts-item hoverable\"><a href=\"/exchange/markets/bkxeth\"><span class=\"width-30\">BKX<span class=\"grey\"> / ETH</span></span><span class=\"width-50\"><span class=\"\">0.00029714</span><span class=\"grey\"> / <span><i class=\"fa fa-cny\"></i> 2.06</span></span></span><span class=\"width-20 text-right\"><span class=\"text-up\">0.00%</span></span></a></li>, <li class=\"merkts-item hoverable\"><a href=\"/exchange/markets/hmceth\"><span class=\"width-30\">HMC<span class=\"grey\"> / ETH</span></span><span class=\"width-50\"><span class=\"\">0.00051000</span><span class=\"grey\"> / <span><i class=\"fa fa-cny\"></i> 3.53</span></span></span><span class=\"width-20 text-right\"><span class=\"text-up\">0.00%</span></span></a></li>, <li class=\"merkts-item hoverable\"><a href=\"/exchange/markets/swftceth\"><span class=\"width-30\">SWFTC<span class=\"grey\"> / ETH</span></span><span class=\"width-50\"><span class=\"\">0.00000912</span><span class=\"grey\"> / <span><i class=\"fa fa-cny\"></i> 0.06</span></span></span><span class=\"width-20 text-right\"><span class=\"text-up\">0.00%</span></span></a></li>, <li class=\"merkts-item hoverable\"><a href=\"/exchange/markets/elfeth\"><span class=\"width-30\">ELF<span class=\"grey\"> / ETH</span></span><span class=\"width-50\"><span class=\"\">0.00025202</span><span class=\"grey\"> / <span><i class=\"fa fa-cny\"></i> 1.74</span></span></span><span class=\"width-20 text-right\"><span class=\"text-up\">0.00%</span></span></a></li>, <li class=\"merkts-item hoverable\"><a href=\"/exchange/markets/yoyoweth\"><span class=\"width-30\">YOYOW<span class=\"grey\"> / ETH</span></span><span class=\"width-50\"><span class=\"\">0.00031000</span><span class=\"grey\"> / <span><i class=\"fa fa-cny\"></i> 2.14</span></span></span><span class=\"width-20 text-right\"><span class=\"text-up\">0.00%</span></span></a></li>, <li class=\"merkts-item hoverable\"><a href=\"/exchange/markets/seereth\"><span class=\"width-30\">SEER<span class=\"grey\"> / ETH</span></span><span class=\"width-50\"><span class=\"\">0.00000815</span><span class=\"grey\"> / <span><i class=\"fa fa-cny\"></i> 0.06</span></span></span><span class=\"width-20 text-right\"><span class=\"text-up\">1.88%</span></span></a></li>, <li class=\"merkts-item hoverable\"><a href=\"/exchange/markets/mvceth\"><span class=\"width-30\">MVC<span class=\"grey\"> / ETH</span></span><span class=\"width-50\"><span class=\"\">0.00012700</span><span class=\"grey\"> / <span><i class=\"fa fa-cny\"></i> 0.88</span></span></span><span class=\"width-20 text-right\"><span class=\"text-down\">-19.72%</span></span></a></li>, <li class=\"merkts-item hoverable\"><a href=\"/exchange/markets/moteth\"><span class=\"width-30\">MOT<span class=\"grey\"> / ETH</span></span><span class=\"width-50\"><span class=\"\">0.00117848</span><span class=\"grey\"> / <span><i class=\"fa fa-cny\"></i> 8.15</span></span></span><span class=\"width-20 text-right\"><span class=\"text-up\">0.00%</span></span></a></li>, <li class=\"merkts-item hoverable\"><a href=\"/exchange/markets/aixeth\"><span class=\"width-30\">AIX<span class=\"grey\"> / ETH</span></span><span class=\"width-50\"><span class=\"\">0.00000000</span><span class=\"grey\"> / <span><i class=\"fa fa-cny\"></i> 0.00</span></span></span><span class=\"width-20 text-right\"><span class=\"text-up\">0.00%</span></span></a></li>, <li class=\"merkts-item hoverable\"><a href=\"/exchange/markets/qasheth\"><span class=\"width-30\">QASH<span class=\"grey\"> / ETH</span></span><span class=\"width-50\"><span class=\"\">0.00900000</span><span class=\"grey\"> / <span><i class=\"fa fa-cny\"></i> 62.26</span></span></span><span class=\"width-20 text-right\"><span class=\"text-up\">0.00%</span></span></a></li>, <li class=\"merkts-item hoverable\"><a href=\"/exchange/markets/aeeth\"><span class=\"width-30\">AE<span class=\"grey\"> / ETH</span></span><span class=\"width-50\"><span class=\"\">0.00000000</span><span class=\"grey\"> / <span><i class=\"fa fa-cny\"></i> 0.00</span></span></span><span class=\"width-20 text-right\"><span class=\"text-up\">0.00%</span></span></a></li>, <li class=\"merkts-item hoverable\"><a href=\"/exchange/markets/knceth\"><span class=\"width-30\">KNC<span class=\"grey\"> / ETH</span></span><span class=\"width-50\"><span class=\"\">0.00000000</span><span class=\"grey\"> / <span><i class=\"fa fa-cny\"></i> 0.00</span></span></span><span class=\"width-20 text-right\"><span class=\"text-up\">0.00%</span></span></a></li>, <li class=\"merkts-item hoverable\"><a href=\"/exchange/markets/stareth\"><span class=\"width-30\">STAR<span class=\"grey\"> / ETH</span></span><span class=\"width-50\"><span class=\"\">0.00057800</span><span class=\"grey\"> / <span><i class=\"fa fa-cny\"></i> 4.00</span></span></span><span class=\"width-20 text-right\"><span class=\"text-up\">0.00%</span></span></a></li>, <li class=\"merkts-item hoverable\"><a href=\"/exchange/markets/iosteth\"><span class=\"width-30\">IOST<span class=\"grey\"> / ETH</span></span><span class=\"width-50\"><span class=\"\">0.00000000</span><span class=\"grey\"> / <span><i class=\"fa fa-cny\"></i> 0.00</span></span></span><span class=\"width-20 text-right\"><span class=\"text-up\">0.00%</span></span></a></li>, <li class=\"merkts-item hoverable\"><a href=\"/exchange/markets/taueth\"><span class=\"width-30\">TAU<span class=\"grey\"> / ETH</span></span><span class=\"width-50\"><span class=\"\">0.00000000</span><span class=\"grey\"> / <span><i class=\"fa fa-cny\"></i> 0.00</span></span></span><span class=\"width-20 text-right\"><span class=\"text-up\">0.00%</span></span></a></li>, <li class=\"merkts-item hoverable\"><a href=\"/exchange/markets/veeeth\"><span class=\"width-30\">VEE<span class=\"grey\"> / ETH</span></span><span class=\"width-50\"><span class=\"\">0.00000000</span><span class=\"grey\"> / <span><i class=\"fa fa-cny\"></i> 0.00</span></span></span><span class=\"width-20 text-right\"><span class=\"text-up\">0.00%</span></span></a></li>]\n"
     ]
    },
    {
     "name": "stderr",
     "output_type": "stream",
     "text": [
      "/Users/Hebbelu/anaconda3/lib/python3.6/site-packages/bs4/__init__.py:181: UserWarning: No parser was explicitly specified, so I'm using the best available HTML parser for this system (\"lxml\"). This usually isn't a problem, but if you run this code on another system, or in a different virtual environment, it may use a different parser and behave differently.\n\nThe code that caused this warning is on line 193 of the file /Users/Hebbelu/anaconda3/lib/python3.6/runpy.py. To get rid of this warning, change code that looks like this:\n\n BeautifulSoup(YOUR_MARKUP})\n\nto this:\n\n BeautifulSoup(YOUR_MARKUP, \"lxml\")\n\n  markup_type=markup_type))\n"
     ]
    }
   ],
   "source": [
    "from bs4 import  BeautifulSoup\n",
    "\n",
    "def htmlobj():\n",
    "    pageSource = driver.page_source\n",
    "    osObt = BeautifulSoup(pageSource)\n",
    "    list = osObt.findAll('li',{'class':'merkts-item hoverable'})\n",
    "\n",
    "\n"
   ]
  },
  {
   "cell_type": "code",
   "execution_count": 242,
   "metadata": {
    "collapsed": false
   },
   "outputs": [
    {
     "name": "stdout",
     "output_type": "stream",
     "text": [
      "0.001141\n"
     ]
    }
   ],
   "source": [
    "#TODO :增加查询买二价\n",
    "\n",
    "def get_buy1price():    \n",
    "    buy = driver.find_element_by_xpath(\"//div[@class='bid-book']//ul[2]/li/span\").text\n",
    "    return float(buy)\n",
    "\n",
    "buy = get_buy1price()\n",
    "print(buy)"
   ]
  },
  {
   "cell_type": "code",
   "execution_count": 95,
   "metadata": {},
   "outputs": [
    {
     "name": "stdout",
     "output_type": "stream",
     "text": [
      "0.00137399\n"
     ]
    }
   ],
   "source": [
    "def get_sell1price():\n",
    "    sell = driver.find_element_by_xpath(\"//div[@class='ask-book']//ul[2]/li/span\").text\n",
    "    return float(sell)\n",
    "\n",
    "sell = get_sell1price()\n",
    "print(sell)"
   ]
  },
  {
   "cell_type": "code",
   "execution_count": 112,
   "metadata": {},
   "outputs": [
    {
     "name": "stdout",
     "output_type": "stream",
     "text": [
      "现有差价： 2.4 %\n"
     ]
    }
   ],
   "source": [
    "def chajia():\n",
    "    buy = get_buy1price()\n",
    "    sell = get_sell1price()\n",
    "    cj = sell-buy\n",
    "    cjbfb = sell/buy -1\n",
    "    return cjbfb*100\n",
    "\n",
    "cjbfb = chajia()\n",
    "print(u\"现有差价：\",round(cjbfb,2),\"%\")\n",
    "    \n"
   ]
  },
  {
   "cell_type": "code",
   "execution_count": 355,
   "metadata": {},
   "outputs": [
    {
     "data": {
      "text/plain": [
       "0.0"
      ]
     },
     "execution_count": 355,
     "metadata": {},
     "output_type": "execute_result"
    }
   ],
   "source": [
    "# 获取余额\n",
    "def get_money():\n",
    "    xpath = \"/html/body/div[2]/div/div/div/div[2]/div[2]/div[2]/div/div[1]/div[2]/\" \\\n",
    "            \"ul/li[2]/span[2]\"\n",
    "    element = driver.find_element_by_xpath(xpath)\n",
    "    #print(element.text)\n",
    "    try:\n",
    "        text = re.findall('(\\d+(\\.？\\d+))',element.text)[0]\n",
    "    except:\n",
    "                text = 0\n",
    "    #print(text)\n",
    "    return float(text)\n",
    "\n",
    "get_money()\n"
   ]
  },
  {
   "cell_type": "code",
   "execution_count": 225,
   "metadata": {},
   "outputs": [
    {
     "data": {
      "text/plain": [
       "5.55560577"
      ]
     },
     "execution_count": 225,
     "metadata": {},
     "output_type": "execute_result"
    }
   ],
   "source": [
    "#获取余币\n",
    "def get_bi():\n",
    "    xpath = \"/html/body/div[2]/div/div/div/div[2]/div[2]/div[2]/div/div[2]/div[2]/ul/li[2]/span[2]\"\n",
    "    element = driver.find_element_by_xpath(xpath)\n",
    "    text = re.findall('\\d+\\.?\\d+',element.text)[0]\n",
    "    return float(text)\n",
    "    \n",
    "    \n",
    "get_bi()"
   ]
  },
  {
   "cell_type": "code",
   "execution_count": 296,
   "metadata": {},
   "outputs": [
    {
     "name": "stdout",
     "output_type": "stream",
     "text": [
      "0.00116009\n"
     ]
    }
   ],
   "source": [
    "buy_ordey_price = round(get_buy1price()+0.00000001,8)\n",
    "print(buy_ordey_price)\n",
    "\n",
    "def input_buy_price(price):\n",
    "    xpath  = \"/html/body/div[2]/div/div/div/div[2]/div[2]/div[2]/div/div[1]/div[2]/form/div[1]/div[1]/input\"\n",
    "    buy_input = driver.find_element_by_xpath(xpath)\n",
    "    buy_input.clear()\n",
    "    buy_input.send_keys(str(price))\n",
    "\n",
    "\n",
    "input_buy_price(buy_ordey_price)\n",
    "\n",
    "    "
   ]
  },
  {
   "cell_type": "code",
   "execution_count": 344,
   "metadata": {
    "collapsed": true
   },
   "outputs": [
    {
     "ename": "IndexError",
     "evalue": "list index out of range",
     "traceback": [
      "\u001b[0;31m---------------------------------------------------------------------------\u001b[0m",
      "\u001b[0;31mIndexError\u001b[0m                                Traceback (most recent call last)",
      "\u001b[0;32m<ipython-input-344-e968fa3b3d1a>\u001b[0m in \u001b[0;36m<module>\u001b[0;34m()\u001b[0m\n\u001b[0;32m----> 1\u001b[0;31m \u001b[0mmoney\u001b[0m \u001b[0;34m=\u001b[0m \u001b[0mget_money\u001b[0m\u001b[0;34m(\u001b[0m\u001b[0;34m)\u001b[0m\u001b[0;34m\u001b[0m\u001b[0m\n\u001b[0m\u001b[1;32m      2\u001b[0m \u001b[0mamount\u001b[0m \u001b[0;34m=\u001b[0m \u001b[0mround\u001b[0m\u001b[0;34m(\u001b[0m\u001b[0mmoney\u001b[0m\u001b[0;34m/\u001b[0m\u001b[0mbuy_ordey_price\u001b[0m\u001b[0;34m,\u001b[0m\u001b[0;36m6\u001b[0m\u001b[0;34m)\u001b[0m\u001b[0;34m\u001b[0m\u001b[0m\n\u001b[1;32m      3\u001b[0m \u001b[0mprint\u001b[0m\u001b[0;34m(\u001b[0m\u001b[0mamount\u001b[0m\u001b[0;34m)\u001b[0m\u001b[0;34m\u001b[0m\u001b[0m\n\u001b[1;32m      4\u001b[0m \u001b[0;32mdef\u001b[0m \u001b[0minput_buy_amount\u001b[0m\u001b[0;34m(\u001b[0m\u001b[0mamount\u001b[0m\u001b[0;34m)\u001b[0m\u001b[0;34m:\u001b[0m\u001b[0;34m\u001b[0m\u001b[0m\n\u001b[1;32m      5\u001b[0m     \u001b[0mxpath\u001b[0m \u001b[0;34m=\u001b[0m \u001b[0;34m\"/html/body/div[2]/div/div/div/div[2]/div[2]/div[2]/div/div[1]/div[2]/form/div[2]\"\u001b[0m             \u001b[0;34m\"/div/input\"\u001b[0m\u001b[0;34m\u001b[0m\u001b[0m\n",
      "\u001b[0;32m<ipython-input-226-2fdae4f44608>\u001b[0m in \u001b[0;36mget_money\u001b[0;34m()\u001b[0m\n\u001b[1;32m      3\u001b[0m     \u001b[0mxpath\u001b[0m \u001b[0;34m=\u001b[0m \u001b[0;34m\"/html/body/div[2]/div/div/div/div[2]/div[2]/div[2]/div/div[1]/div[2]/ul/li[2]/span[2]\"\u001b[0m\u001b[0;34m\"\"\u001b[0m\u001b[0;34m\u001b[0m\u001b[0m\n\u001b[1;32m      4\u001b[0m     \u001b[0melement\u001b[0m \u001b[0;34m=\u001b[0m \u001b[0mdriver\u001b[0m\u001b[0;34m.\u001b[0m\u001b[0mfind_element_by_xpath\u001b[0m\u001b[0;34m(\u001b[0m\u001b[0mxpath\u001b[0m\u001b[0;34m)\u001b[0m\u001b[0;34m\u001b[0m\u001b[0m\n\u001b[0;32m----> 5\u001b[0;31m     \u001b[0mtext\u001b[0m \u001b[0;34m=\u001b[0m \u001b[0mre\u001b[0m\u001b[0;34m.\u001b[0m\u001b[0mfindall\u001b[0m\u001b[0;34m(\u001b[0m\u001b[0;34m'\\d+\\.?\\d+'\u001b[0m\u001b[0;34m,\u001b[0m\u001b[0melement\u001b[0m\u001b[0;34m.\u001b[0m\u001b[0mtext\u001b[0m\u001b[0;34m)\u001b[0m\u001b[0;34m[\u001b[0m\u001b[0;36m0\u001b[0m\u001b[0;34m]\u001b[0m\u001b[0;34m\u001b[0m\u001b[0m\n\u001b[0m\u001b[1;32m      6\u001b[0m     \u001b[0;32mreturn\u001b[0m \u001b[0mfloat\u001b[0m\u001b[0;34m(\u001b[0m\u001b[0mtext\u001b[0m\u001b[0;34m)\u001b[0m\u001b[0;34m\u001b[0m\u001b[0m\n\u001b[1;32m      7\u001b[0m \u001b[0;34m\u001b[0m\u001b[0m\n",
      "\u001b[0;31mIndexError\u001b[0m: list index out of range"
     ],
     "output_type": "error"
    }
   ],
   "source": [
    "money = get_money()\n",
    "amount = round(money/buy_ordey_price,6)\n",
    "print(amount)\n",
    "def input_buy_amount(amount):\n",
    "    xpath = \"/html/body/div[2]/div/div/div/div[2]/div[2]/div[2]/div/div[1]/div[2]/form/div[2]\" \\\n",
    "            \"/div/input\"\n",
    "    amount_input = driver.find_element_by_xpath(xpath)\n",
    "    amount_input.clear()\n",
    "    amount_input.send_keys(str(amount))\n",
    "    \n",
    "input_buy_amount(amount)"
   ]
  },
  {
   "cell_type": "code",
   "execution_count": 298,
   "metadata": {},
   "outputs": [
    {
     "name": "stdout",
     "output_type": "stream",
     "text": [
      "买入 OTB\n"
     ]
    }
   ],
   "source": [
    "from selenium.webdriver.common.keys import Keys\n",
    "\n",
    "def commit_buy():\n",
    "    #xpath = \"//buttun[@text()=u'买入OTB']\"\n",
    "    commit = driver.find_element_by_xpath(\"/html/body/div[2]/div/div/div/div[2]/div[2]/div[2]/div/div[1]/div[2]/form/div[4]/button\")\n",
    "    print(commit.text)\n",
    "    commit.send_keys(Keys.ENTER)\n",
    "    \n",
    "commit_buy()\n",
    "    \n",
    "    "
   ]
  },
  {
   "cell_type": "code",
   "execution_count": 357,
   "metadata": {
    "collapsed": true
   },
   "outputs": [
    {
     "name": "stdout",
     "output_type": "stream",
     "text": [
      "撤单代码异常\n"
     ]
    }
   ],
   "source": [
    "# 撤单 \n",
    "# TODO:高于买二价太多，撤单重挂\n",
    "def cancle_buy_order():\n",
    "    try:\n",
    "        xpath = \"//ul[@class='general-flex-list scroll-block history-lists']\"\n",
    "        cancle = driver.find_element_by_xpath(xpath+\n",
    "                \"/li//span[7]/a\")        \n",
    "        print(cancle.text)\n",
    "        cancle.send_keys(Keys.ENTER)  \n",
    "        time.sleep(5)\n",
    "    except:\n",
    "        print(u'撤单代码异常')\n",
    "        #pass\n",
    "cancle_buy_order()"
   ]
  },
  {
   "cell_type": "code",
   "execution_count": 391,
   "metadata": {
    "collapsed": true
   },
   "outputs": [
    {
     "name": "stdout",
     "output_type": "stream",
     "text": [
      "['18-01-21 09:30:39', '买', '0.00122390', '6.03472505', '0 %', '0.00738590']\n"
     ]
    }
   ],
   "source": [
    "def my_orders():\n",
    "    xpath =\"/html/body/div[2]/div/div/div/div[2]/div[3]/div[2]/div[1]/div[2]/ul[2]\"\n",
    "    orders_text = driver.find_element_by_xpath(xpath).text\n",
    "    orders = re.split('\\n',orders_text)\n",
    "    print(orders)\n",
    "    return orders\n",
    "    \n",
    "order = my_orders()"
   ]
  },
  {
   "cell_type": "code",
   "execution_count": null,
   "metadata": {},
   "outputs": [],
   "source": [
    "def cancle_sell_order():\n",
    "    xpath = "
   ]
  },
  {
   "cell_type": "code",
   "execution_count": 356,
   "metadata": {
    "collapsed": true
   },
   "outputs": [
    {
     "name": "stdout",
     "output_type": "stream",
     "text": [
      "0.00117702\n"
     ]
    },
    {
     "name": "stdout",
     "output_type": "stream",
     "text": [
      "买入 OTB\n"
     ]
    }
   ],
   "source": [
    "def buy(price,amount):\n",
    "    input_buy_price(price)  \n",
    "    input_buy_amount(amount)\n",
    "    commit_buy()\n",
    "    #time.sleep(3)\n",
    " \n",
    "buy_ordey_price = round(get_buy1price()+0.00000001,8)\n",
    "print(buy_ordey_price)   \n",
    "\n",
    "money = get_money()\n",
    "amount = round(money/buy_ordey_price,6)\n",
    "\n",
    "buy(buy_ordey_price,amount)\n",
    "    "
   ]
  },
  {
   "cell_type": "code",
   "execution_count": 338,
   "metadata": {},
   "outputs": [
    {
     "data": {
      "text/plain": [
       "0"
      ]
     },
     "execution_count": 338,
     "metadata": {},
     "output_type": "execute_result"
    }
   ],
   "source": [
    "## 检查买一价是否高于我的下单价\n",
    "\n",
    "def check_buy_order():\n",
    "    buy1 = get_buy1price()\n",
    "    #print(buy1)\n",
    "    #print(buy_ordey_price)\n",
    "    if buy_ordey_price < buy1:\n",
    "        return 1\n",
    "    else:\n",
    "        return 0\n",
    "    \n",
    "    \n",
    "check_buy_order()"
   ]
  },
  {
   "cell_type": "code",
   "execution_count": 341,
   "metadata": {
    "collapsed": true
   },
   "outputs": [],
   "source": [
    "def main():\n",
    "    for i in range(20):\n",
    "        if check_buy_order():\n",
    "\n",
    "            cancle_buy_order()\n",
    "            \n",
    "            buy1 = get_buy1price()\n",
    "            buy_order_price = round(buy1+0.00000001,8)\n",
    "            \n",
    "            money = get_money()\n",
    "            amount = round(money/buy_order_price,6)\n",
    "            buy(buy_order_price,amount)\n",
    "        time.sleep(1)\n",
    "    \n",
    "main() "
   ]
  },
  {
   "cell_type": "code",
   "execution_count": null,
   "metadata": {},
   "outputs": [],
   "source": [
    "driver.get('we')"
   ]
  }
 ],
 "metadata": {
  "kernelspec": {
   "display_name": "Python 2",
   "language": "python",
   "name": "python2"
  },
  "language_info": {
   "codemirror_mode": {
    "name": "ipython",
    "version": 2
   },
   "file_extension": ".py",
   "mimetype": "text/x-python",
   "name": "python",
   "nbconvert_exporter": "python",
   "pygments_lexer": "ipython2",
   "version": "2.7.6"
  }
 },
 "nbformat": 4,
 "nbformat_minor": 0
}
